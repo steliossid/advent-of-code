{
 "cells": [
  {
   "cell_type": "code",
   "execution_count": 1,
   "metadata": {},
   "outputs": [
    {
     "name": "stdout",
     "output_type": "stream",
     "text": [
      "TLNGFGMFN\n",
      "FGLQJCMBD\n"
     ]
    }
   ],
   "source": [
    "import copy\n",
    "\n",
    "with open(\"input/5a.txt\", \"r\") as f:\n",
    "    crates = {}\n",
    "    for i, l in enumerate(reversed(f.readlines())):\n",
    "        if i==0:\n",
    "            for crate in l.split():\n",
    "                crates[crate] = []\n",
    "        else:\n",
    "            odd = [num for num in range(0,len(str(l))+1) if num % 2 == 1][::2]\n",
    "            for key, num in enumerate(odd):\n",
    "                if str(l)[num] != ' ':\n",
    "                    crates[str(key+1)].append(str(l)[num])\n",
    "\n",
    "crates1 = copy.deepcopy(crates)\n",
    "crates2 = copy.deepcopy(crates)\n",
    "\n",
    "with open(\"input/5b.txt\", \"r\") as f:\n",
    "    for l in f.readlines():\n",
    "        instructions = l.split()\n",
    "        move = instructions[1]\n",
    "        from_ = instructions[3]\n",
    "        to = instructions[5]\n",
    "        # first part\n",
    "        for i in range(int(move)):\n",
    "            crate_to_move = crates1[from_].pop()\n",
    "            crates1[to].append(crate_to_move)\n",
    "        # second part\n",
    "        crates_to_move = []\n",
    "        for i in range(int(move)):\n",
    "            crates_to_move.append(crates2[from_].pop())\n",
    "        for crate_moved in reversed(crates_to_move):\n",
    "            crates2[to].append(crate_moved)\n",
    "\n",
    "def get_top_crates(crates):\n",
    "    top_crates = \"\"\n",
    "    for k,v in crates.items():\n",
    "        top_crates += v[-1]\n",
    "    return top_crates\n",
    "\n",
    "print(get_top_crates(crates1))\n",
    "print(get_top_crates(crates2))"
   ]
  }
 ],
 "metadata": {
  "kernelspec": {
   "display_name": "ml",
   "language": "python",
   "name": "python3"
  },
  "language_info": {
   "codemirror_mode": {
    "name": "ipython",
    "version": 3
   },
   "file_extension": ".py",
   "mimetype": "text/x-python",
   "name": "python",
   "nbconvert_exporter": "python",
   "pygments_lexer": "ipython3",
   "version": "3.9.7"
  },
  "orig_nbformat": 4,
  "vscode": {
   "interpreter": {
    "hash": "fc688f68120da40b07e0fd5ad675b31b4c01cd091587be7473573e125189b4b2"
   }
  }
 },
 "nbformat": 4,
 "nbformat_minor": 2
}
