{
 "cells": [
  {
   "cell_type": "code",
   "execution_count": 1,
   "metadata": {},
   "outputs": [
    {
     "name": "stdout",
     "output_type": "stream",
     "text": [
      "TLNGFGMFN\n"
     ]
    }
   ],
   "source": [
    "with open(\"input/5a.txt\", \"r\") as f:\n",
    "    crates = {}\n",
    "    for i, l in enumerate(reversed(f.readlines())):\n",
    "        if i==0:\n",
    "            for crate in l.split():\n",
    "                crates[crate] = []\n",
    "        else:\n",
    "            odd = [num for num in range(0,len(str(l))+1) if num % 2 == 1][::2]\n",
    "            for key, num in enumerate(odd):\n",
    "                if str(l)[num] != ' ':\n",
    "                    crates[str(key+1)].append(str(l)[num])\n",
    "\n",
    "with open(\"input/5b.txt\", \"r\") as f:\n",
    "    for l in f.readlines():\n",
    "        instructions = l.split()\n",
    "        move = instructions[1]\n",
    "        from_ = instructions[3]\n",
    "        to = instructions[5]\n",
    "        for i in range(int(move)):\n",
    "            crate_to_move = crates[from_].pop()\n",
    "            crates[to].append(crate_to_move)\n",
    "\n",
    "top_crates = \"\"\n",
    "for k,v in crates.items():\n",
    "    top_crates += v[-1]\n",
    "\n",
    "print(top_crates)"
   ]
  },
  {
   "cell_type": "code",
   "execution_count": 66,
   "metadata": {},
   "outputs": [],
   "source": [
    "\n"
   ]
  },
  {
   "cell_type": "code",
   "execution_count": null,
   "metadata": {},
   "outputs": [],
   "source": []
  },
  {
   "cell_type": "code",
   "execution_count": null,
   "metadata": {},
   "outputs": [],
   "source": []
  }
 ],
 "metadata": {
  "kernelspec": {
   "display_name": "ml",
   "language": "python",
   "name": "python3"
  },
  "language_info": {
   "codemirror_mode": {
    "name": "ipython",
    "version": 3
   },
   "file_extension": ".py",
   "mimetype": "text/x-python",
   "name": "python",
   "nbconvert_exporter": "python",
   "pygments_lexer": "ipython3",
   "version": "3.9.7"
  },
  "orig_nbformat": 4,
  "vscode": {
   "interpreter": {
    "hash": "fc688f68120da40b07e0fd5ad675b31b4c01cd091587be7473573e125189b4b2"
   }
  }
 },
 "nbformat": 4,
 "nbformat_minor": 2
}
