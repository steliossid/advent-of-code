{
 "cells": [
  {
   "cell_type": "code",
   "execution_count": 26,
   "metadata": {},
   "outputs": [
    {
     "name": "stdout",
     "output_type": "stream",
     "text": [
      "518\n",
      "909\n"
     ]
    }
   ],
   "source": [
    "with open(\"input/4.txt\", \"r\") as f:\n",
    "    fully_overlap = 0\n",
    "    partially_overlap = 0\n",
    "    for l in f.readlines():\n",
    "        pairs = [pair for pair in l.strip().split(\",\")]\n",
    "        first_pair_start, first_pair_finish = pairs[0].split(\"-\")\n",
    "        second_pair_start, second_pair_finish = pairs[1].split(\"-\")\n",
    "        first = list(range(int(first_pair_start), int(first_pair_finish)+1))\n",
    "        second = list(range(int(second_pair_start), int(second_pair_finish)+1))\n",
    "        if (set(first) & set(second)) == set(first) or (set(first) & set(second)) == set(second):\n",
    "            fully_overlap += 1\n",
    "        if len(set(first) & set(second)) > 0:\n",
    "            partially_overlap += 1\n",
    "print(fully_overlap)\n",
    "print(partially_overlap)"
   ]
  }
 ],
 "metadata": {
  "kernelspec": {
   "display_name": "ml",
   "language": "python",
   "name": "python3"
  },
  "language_info": {
   "codemirror_mode": {
    "name": "ipython",
    "version": 3
   },
   "file_extension": ".py",
   "mimetype": "text/x-python",
   "name": "python",
   "nbconvert_exporter": "python",
   "pygments_lexer": "ipython3",
   "version": "3.9.7"
  },
  "orig_nbformat": 4,
  "vscode": {
   "interpreter": {
    "hash": "fc688f68120da40b07e0fd5ad675b31b4c01cd091587be7473573e125189b4b2"
   }
  }
 },
 "nbformat": 4,
 "nbformat_minor": 2
}
