{
 "cells": [
  {
   "cell_type": "code",
   "execution_count": 1,
   "metadata": {},
   "outputs": [
    {
     "name": "stdout",
     "output_type": "stream",
     "text": [
      "1042\n"
     ]
    }
   ],
   "source": [
    "with open(\"input/6.txt\", \"r\") as f:\n",
    "    queue=[]\n",
    "    for i, c in enumerate(f.read()):\n",
    "        queue.append(c)\n",
    "        if i>3:\n",
    "            queue.pop(0)\n",
    "            if len(queue)==len(set(queue)):\n",
    "                print(i+1)\n",
    "                break"
   ]
  },
  {
   "cell_type": "code",
   "execution_count": 2,
   "metadata": {},
   "outputs": [
    {
     "name": "stdout",
     "output_type": "stream",
     "text": [
      "2980\n"
     ]
    }
   ],
   "source": [
    "with open(\"input/6.txt\", \"r\") as f:\n",
    "    queue=[]\n",
    "    for i, c in enumerate(f.read()):\n",
    "        queue.append(c)\n",
    "        if i>13:\n",
    "            queue.pop(0)\n",
    "            if len(queue)==len(set(queue)):\n",
    "                print(i+1)\n",
    "                break"
   ]
  }
 ],
 "metadata": {
  "kernelspec": {
   "display_name": "Python 3.9.15 ('ml')",
   "language": "python",
   "name": "python3"
  },
  "language_info": {
   "codemirror_mode": {
    "name": "ipython",
    "version": 3
   },
   "file_extension": ".py",
   "mimetype": "text/x-python",
   "name": "python",
   "nbconvert_exporter": "python",
   "pygments_lexer": "ipython3",
   "version": "3.9.15"
  },
  "orig_nbformat": 4,
  "vscode": {
   "interpreter": {
    "hash": "5c88c4ade95a2f682d79884a6385b5b8defc251080b048a565ec80e5309a6e2e"
   }
  }
 },
 "nbformat": 4,
 "nbformat_minor": 2
}
