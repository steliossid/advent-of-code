{
 "cells": [
  {
   "cell_type": "code",
   "execution_count": 1,
   "metadata": {},
   "outputs": [
    {
     "name": "stdout",
     "output_type": "stream",
     "text": [
      "7746\n"
     ]
    }
   ],
   "source": [
    "import string\n",
    "\n",
    "with open(\"input/3.txt\", \"r\") as f:\n",
    "    first_comp = []\n",
    "    second_comp = []\n",
    "    for l in f.readlines():\n",
    "        first_comp.append(l[0:int(len(l)/2)])\n",
    "        second_comp.append(l[int(len(l)/2):])\n",
    "\n",
    "scores = dict(zip(list(string.ascii_lowercase)+list(string.ascii_uppercase), list(range(1,53))))\n",
    "\n",
    "priorities_sum = 0\n",
    "for first, second in zip(first_comp, second_comp):\n",
    "    common = ''.join(set(first).intersection(second))\n",
    "    priorities_sum += scores[common]\n",
    "\n",
    "print(priorities_sum)"
   ]
  },
  {
   "cell_type": "code",
   "execution_count": 2,
   "metadata": {},
   "outputs": [
    {
     "name": "stdout",
     "output_type": "stream",
     "text": [
      "2604\n"
     ]
    }
   ],
   "source": [
    "with open(\"input/3.txt\", \"r\") as f:\n",
    "    lines = []\n",
    "    for l in f.readlines():\n",
    "        lines.append(l.strip())\n",
    "groups = [lines[i:i+3] for i in range(0, len(lines), 3)]\n",
    "priorities_sum = 0\n",
    "for group in groups:\n",
    "    common = ''.join(set(group[0]) & set(group[1]) & set(group[2]))\n",
    "    priorities_sum += scores[common]\n",
    "print(priorities_sum)"
   ]
  }
 ],
 "metadata": {
  "kernelspec": {
   "display_name": "ml",
   "language": "python",
   "name": "python3"
  },
  "language_info": {
   "codemirror_mode": {
    "name": "ipython",
    "version": 3
   },
   "file_extension": ".py",
   "mimetype": "text/x-python",
   "name": "python",
   "nbconvert_exporter": "python",
   "pygments_lexer": "ipython3",
   "version": "3.9.7"
  },
  "orig_nbformat": 4,
  "vscode": {
   "interpreter": {
    "hash": "fc688f68120da40b07e0fd5ad675b31b4c01cd091587be7473573e125189b4b2"
   }
  }
 },
 "nbformat": 4,
 "nbformat_minor": 2
}
