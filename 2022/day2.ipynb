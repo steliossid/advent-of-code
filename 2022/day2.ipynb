{
 "cells": [
  {
   "cell_type": "code",
   "execution_count": 9,
   "id": "1419250a",
   "metadata": {},
   "outputs": [
    {
     "name": "stdout",
     "output_type": "stream",
     "text": [
      "12717\n",
      "12772\n"
     ]
    }
   ],
   "source": [
    "with open(\"input/2.txt\", \"r\") as f:\n",
    "    lines = f.readlines()\n",
    "    opponent_plays = []\n",
    "    me_plays = []\n",
    "    for l in lines:\n",
    "        options = l.split(\" \")\n",
    "        opponent_plays.append(options[0])\n",
    "        me_plays.append(options[1].replace(\"\\n\", \"\"))\n",
    "\n",
    "for i in range(len(me_plays)):\n",
    "    if me_plays[i]==\"X\":\n",
    "        me_plays[i]=\"A\"\n",
    "    elif me_plays[i]==\"Y\":\n",
    "        me_plays[i]=\"B\"\n",
    "    else:\n",
    "        me_plays[i]=\"C\"\n",
    "        \n",
    "\n",
    "def winner(opponent, me):\n",
    "    options={\"A\":0, \"B\":1, \"C\":2}\n",
    "    difference=(options[opponent]-options[me])%3\n",
    "    if difference==1:\n",
    "        return \"Opponent\"\n",
    "    elif difference==2:\n",
    "        return \"Me\"\n",
    "    else:\n",
    "        return \"Tie\"\n",
    "    \n",
    "\n",
    "op_score=[]\n",
    "me_score=[]\n",
    "scores={\"A\":1, \"B\":2, \"C\":3}\n",
    "for op_play, me_play in zip(opponent_plays, me_plays):\n",
    "    op_round_score=0\n",
    "    me_round_score=0\n",
    "    if winner(op_play, me_play)==\"Opponent\":\n",
    "        op_round_score=scores[op_play]+6\n",
    "        me_round_score=scores[me_play]\n",
    "    elif winner(op_play, me_play)==\"Me\":\n",
    "        me_round_score=scores[me_play]+6\n",
    "        op_round_score=scores[op_play]\n",
    "    else: # Tie\n",
    "        op_round_score=scores[op_play]+3\n",
    "        me_round_score=scores[me_play]+3\n",
    "    op_score.append(op_round_score)\n",
    "    me_score.append(me_round_score)\n",
    "print(sum(op_score))\n",
    "print(sum(me_score))"
   ]
  },
  {
   "cell_type": "code",
   "execution_count": 10,
   "id": "a63d1472",
   "metadata": {},
   "outputs": [
    {
     "name": "stdout",
     "output_type": "stream",
     "text": [
      "14001\n",
      "11618\n"
     ]
    }
   ],
   "source": [
    "with open(\"input/2.txt\", \"r\") as f:\n",
    "    lines = f.readlines()\n",
    "    opponent_plays = []\n",
    "    me_plays = []\n",
    "    for l in lines:\n",
    "        options = l.split(\" \")\n",
    "        opponent_plays.append(options[0])\n",
    "        me_plays.append(options[1].replace(\"\\n\", \"\"))\n",
    "\n",
    "def decrypt_my_move(opponent, me):\n",
    "    options=[\"A\", \"B\", \"C\"]\n",
    "    points={\"A\":0, \"B\":1, \"C\":2}\n",
    "    if me==\"Y\": # Draw\n",
    "        return opponent, opponent\n",
    "    elif me==\"X\": # I need to lose\n",
    "        for option in options:\n",
    "            if (points[opponent]-points[option])%3 == 1:\n",
    "                return opponent, option\n",
    "    else: # I need to win (Z)\n",
    "        for option in options:\n",
    "            if (points[opponent]-points[option])%3 == 2:\n",
    "                return opponent, option\n",
    "\n",
    "\n",
    "op_score=[]\n",
    "me_score=[]\n",
    "scores={\"A\":1, \"B\":2, \"C\":3}\n",
    "for op_play, me_play in zip(opponent_plays, me_plays):\n",
    "    op_play, me_play = decrypt_my_move(op_play, me_play)\n",
    "    op_round_score=0\n",
    "    me_round_score=0\n",
    "    if winner(op_play, me_play)==\"Opponent\":\n",
    "        op_round_score=scores[op_play]+6\n",
    "        me_round_score=scores[me_play]\n",
    "    elif winner(op_play, me_play)==\"Me\":\n",
    "        me_round_score=scores[me_play]+6\n",
    "        op_round_score=scores[op_play]\n",
    "    else: # Tie\n",
    "        op_round_score=scores[op_play]+3\n",
    "        me_round_score=scores[me_play]+3\n",
    "    op_score.append(op_round_score)\n",
    "    me_score.append(me_round_score)\n",
    "print(sum(op_score))\n",
    "print(sum(me_score))"
   ]
  },
  {
   "cell_type": "code",
   "execution_count": null,
   "id": "5b478af8",
   "metadata": {},
   "outputs": [],
   "source": []
  }
 ],
 "metadata": {
  "kernelspec": {
   "display_name": "Python 3 (ipykernel)",
   "language": "python",
   "name": "python3"
  },
  "language_info": {
   "codemirror_mode": {
    "name": "ipython",
    "version": 3
   },
   "file_extension": ".py",
   "mimetype": "text/x-python",
   "name": "python",
   "nbconvert_exporter": "python",
   "pygments_lexer": "ipython3",
   "version": "3.9.7"
  }
 },
 "nbformat": 4,
 "nbformat_minor": 5
}
