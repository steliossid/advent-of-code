{
 "cells": [
  {
   "cell_type": "code",
   "execution_count": 1,
   "id": "1419250a",
   "metadata": {},
   "outputs": [
    {
     "data": {
      "text/plain": [
       "71300"
      ]
     },
     "execution_count": 1,
     "metadata": {},
     "output_type": "execute_result"
    }
   ],
   "source": [
    "with open(\"input/1.txt\", \"r\") as f:\n",
    "    lines = f.read().split(\"\\n\")\n",
    "\n",
    "total=[]\n",
    "temp_sum=0\n",
    "for element in lines:\n",
    "    if element:\n",
    "        temp_sum+=int(element)\n",
    "    else:\n",
    "        total.append(temp_sum)\n",
    "        temp_sum=0\n",
    "max(total)"
   ]
  },
  {
   "cell_type": "code",
   "execution_count": 2,
   "id": "77b4c3d1",
   "metadata": {},
   "outputs": [
    {
     "data": {
      "text/plain": [
       "209691"
      ]
     },
     "execution_count": 2,
     "metadata": {},
     "output_type": "execute_result"
    }
   ],
   "source": [
    "tmp=total\n",
    "top3=0\n",
    "for i in range(0,3):\n",
    "    max_value=max(tmp)\n",
    "    top3+=max_value\n",
    "    tmp.pop(tmp.index(max_value))\n",
    "top3"
   ]
  }
 ],
 "metadata": {
  "kernelspec": {
   "display_name": "Python 3 (ipykernel)",
   "language": "python",
   "name": "python3"
  },
  "language_info": {
   "codemirror_mode": {
    "name": "ipython",
    "version": 3
   },
   "file_extension": ".py",
   "mimetype": "text/x-python",
   "name": "python",
   "nbconvert_exporter": "python",
   "pygments_lexer": "ipython3",
   "version": "3.9.7"
  }
 },
 "nbformat": 4,
 "nbformat_minor": 5
}
